{
  "nbformat": 4,
  "nbformat_minor": 0,
  "metadata": {
    "colab": {
      "name": " Zindi_hack3_nb_clean.ipynb",
      "provenance": [],
      "collapsed_sections": [],
      "machine_shape": "hm",
      "authorship_tag": "ABX9TyOR4jX71PCa9RqhzulJcqzi",
      "include_colab_link": true
    },
    "kernelspec": {
      "name": "python3",
      "display_name": "Python 3"
    },
    "accelerator": "GPU"
  },
  "cells": [
    {
      "cell_type": "markdown",
      "metadata": {
        "id": "view-in-github",
        "colab_type": "text"
      },
      "source": [
        "<a href=\"https://colab.research.google.com/github/anindabitm/Zindi_hack/blob/master/Zindi_hack3_nb_clean.ipynb\" target=\"_parent\"><img src=\"https://colab.research.google.com/assets/colab-badge.svg\" alt=\"Open In Colab\"/></a>"
      ]
    },
    {
      "cell_type": "code",
      "metadata": {
        "id": "GottAJmwpVKz",
        "colab_type": "code",
        "colab": {}
      },
      "source": [
        "from google.colab import drive"
      ],
      "execution_count": 0,
      "outputs": []
    },
    {
      "cell_type": "code",
      "metadata": {
        "id": "uIbZeTOlpsz6",
        "colab_type": "code",
        "outputId": "26e28b29-f6c5-49c6-8ee1-c564ddcd2357",
        "colab": {
          "base_uri": "https://localhost:8080/",
          "height": 35
        }
      },
      "source": [
        "#Mount google drive\n",
        "drive.mount('/content/drive')\n",
        "import os\n",
        "os.chdir('/content/drive/My Drive/Zindi_Hack/3/')"
      ],
      "execution_count": 2,
      "outputs": [
        {
          "output_type": "stream",
          "text": [
            "Drive already mounted at /content/drive; to attempt to forcibly remount, call drive.mount(\"/content/drive\", force_remount=True).\n"
          ],
          "name": "stdout"
        }
      ]
    },
    {
      "cell_type": "code",
      "metadata": {
        "id": "HOz-_qwqqwX2",
        "colab_type": "code",
        "colab": {}
      },
      "source": [
        "# import statements\n",
        "import os\n",
        "import sys\n",
        "import csv\n",
        "import shutil\n",
        "from pathlib import Path\n",
        "import matplotlib.pyplot as plt\n",
        "import numpy as np\n",
        "import pandas as pd\n",
        "import torch\n",
        "import random\n",
        "%matplotlib inline"
      ],
      "execution_count": 0,
      "outputs": []
    },
    {
      "cell_type": "code",
      "metadata": {
        "id": "gQefo8FEuQa9",
        "colab_type": "code",
        "colab": {}
      },
      "source": [
        "#Install fastai2\n",
        "!pip install fastai2"
      ],
      "execution_count": 0,
      "outputs": []
    },
    {
      "cell_type": "code",
      "metadata": {
        "id": "QRHrQfS6uhCQ",
        "colab_type": "code",
        "colab": {}
      },
      "source": [
        "#import fastai modules\n",
        "from fastai2.torch_basics import *\n",
        "from fastai2.basics import *\n",
        "from fastai2.data.all import *\n",
        "from fastai2.callback.all import *\n",
        "from fastai2.vision.all import *\n",
        "from fastai2.test_utils import *\n",
        "from fastai2.vision.core import *"
      ],
      "execution_count": 0,
      "outputs": []
    },
    {
      "cell_type": "code",
      "metadata": {
        "id": "m4g38UVCrB2p",
        "colab_type": "code",
        "colab": {}
      },
      "source": [
        "#seed everything\n",
        "seed = 42\n",
        "set_seed(42)\n",
        "torch.backends.cudnn.benchmark = False\n",
        "# python RNG\n",
        "random.seed(seed)\n",
        "# pytorch RNGs\n",
        "torch.manual_seed(seed)\n",
        "torch.backends.cudnn.deterministic = True\n",
        "if torch.cuda.is_available(): torch.cuda.manual_seed_all(seed)\n",
        "# numpy RNG\n",
        "np.random.seed(seed)"
      ],
      "execution_count": 0,
      "outputs": []
    },
    {
      "cell_type": "code",
      "metadata": {
        "id": "NMSKM5Sgp9nx",
        "colab_type": "code",
        "outputId": "823e6a1b-aa48-41c5-d165-6167011695fb",
        "colab": {
          "base_uri": "https://localhost:8080/",
          "height": 102
        }
      },
      "source": [
        "!ls"
      ],
      "execution_count": 0,
      "outputs": [
        {
          "output_type": "stream",
          "text": [
            "images\t\t\t  submission_file_tta.csv\n",
            "images.zip\t\t  submission_file_tta_cv.csv\n",
            "sample_sub_v2.csv\t  submission_file_tta_cv_dense169.csv\n",
            "submission_file.csv\t  submission_file_tta_cv_mixup.csv\n",
            "submission_file_tta1.csv  train_labels.csv\n"
          ],
          "name": "stdout"
        }
      ]
    },
    {
      "cell_type": "code",
      "metadata": {
        "id": "0yWfSUyVqCjM",
        "colab_type": "code",
        "colab": {}
      },
      "source": [
        "!unzip images.zip"
      ],
      "execution_count": 0,
      "outputs": []
    },
    {
      "cell_type": "code",
      "metadata": {
        "id": "iktWBiPgqUu8",
        "colab_type": "code",
        "outputId": "31ad040a-9ca9-480c-b7eb-edf5fdd84a66",
        "colab": {
          "base_uri": "https://localhost:8080/",
          "height": 35
        }
      },
      "source": [
        "import glob\n",
        "fn=glob.glob('./images/*.*')\n",
        "len(fn)"
      ],
      "execution_count": 7,
      "outputs": [
        {
          "output_type": "execute_result",
          "data": {
            "text/plain": [
              "1817"
            ]
          },
          "metadata": {
            "tags": []
          },
          "execution_count": 7
        }
      ]
    },
    {
      "cell_type": "code",
      "metadata": {
        "id": "EDZuPa3mqt3s",
        "colab_type": "code",
        "outputId": "ec82f45d-019c-4987-f7dc-2a18066e8a69",
        "colab": {
          "base_uri": "https://localhost:8080/",
          "height": 35
        }
      },
      "source": [
        "train=pd.read_csv('./train_labels.csv')\n",
        "train.shape"
      ],
      "execution_count": 6,
      "outputs": [
        {
          "output_type": "execute_result",
          "data": {
            "text/plain": [
              "(1308, 2)"
            ]
          },
          "metadata": {
            "tags": []
          },
          "execution_count": 6
        }
      ]
    },
    {
      "cell_type": "code",
      "metadata": {
        "id": "79S2DKbhrKJT",
        "colab_type": "code",
        "outputId": "54bc00b0-4537-435a-df86-f346042d6014",
        "colab": {
          "base_uri": "https://localhost:8080/",
          "height": 198
        }
      },
      "source": [
        "train.head()"
      ],
      "execution_count": 7,
      "outputs": [
        {
          "output_type": "execute_result",
          "data": {
            "text/html": [
              "<div>\n",
              "<style scoped>\n",
              "    .dataframe tbody tr th:only-of-type {\n",
              "        vertical-align: middle;\n",
              "    }\n",
              "\n",
              "    .dataframe tbody tr th {\n",
              "        vertical-align: top;\n",
              "    }\n",
              "\n",
              "    .dataframe thead th {\n",
              "        text-align: right;\n",
              "    }\n",
              "</style>\n",
              "<table border=\"1\" class=\"dataframe\">\n",
              "  <thead>\n",
              "    <tr style=\"text-align: right;\">\n",
              "      <th></th>\n",
              "      <th>image</th>\n",
              "      <th>target</th>\n",
              "    </tr>\n",
              "  </thead>\n",
              "  <tbody>\n",
              "    <tr>\n",
              "      <th>0</th>\n",
              "      <td>tfymlmdkpzkqdjhdxyhnoeuqszxphw.jpg</td>\n",
              "      <td>0</td>\n",
              "    </tr>\n",
              "    <tr>\n",
              "      <th>1</th>\n",
              "      <td>rxgismgsvmaayzjarbfjaljhqmpbrt.jpg</td>\n",
              "      <td>1</td>\n",
              "    </tr>\n",
              "    <tr>\n",
              "      <th>2</th>\n",
              "      <td>uuzshfrhkgrkolhwdvliqauzulurnz.jpg</td>\n",
              "      <td>0</td>\n",
              "    </tr>\n",
              "    <tr>\n",
              "      <th>3</th>\n",
              "      <td>mjspxsagzusaznvnyxgamtrlqkqklp.jpg</td>\n",
              "      <td>0</td>\n",
              "    </tr>\n",
              "    <tr>\n",
              "      <th>4</th>\n",
              "      <td>rlbmuajgezfiddjzlyeoupxpqubkpt.jpg</td>\n",
              "      <td>1</td>\n",
              "    </tr>\n",
              "  </tbody>\n",
              "</table>\n",
              "</div>"
            ],
            "text/plain": [
              "                                image  target\n",
              "0  tfymlmdkpzkqdjhdxyhnoeuqszxphw.jpg       0\n",
              "1  rxgismgsvmaayzjarbfjaljhqmpbrt.jpg       1\n",
              "2  uuzshfrhkgrkolhwdvliqauzulurnz.jpg       0\n",
              "3  mjspxsagzusaznvnyxgamtrlqkqklp.jpg       0\n",
              "4  rlbmuajgezfiddjzlyeoupxpqubkpt.jpg       1"
            ]
          },
          "metadata": {
            "tags": []
          },
          "execution_count": 7
        }
      ]
    },
    {
      "cell_type": "code",
      "metadata": {
        "id": "wBS-m4x9rRc2",
        "colab_type": "code",
        "outputId": "69c8d6bf-16f4-431b-8220-77b5dd37d0c3",
        "colab": {
          "base_uri": "https://localhost:8080/",
          "height": 216
        }
      },
      "source": [
        "sub=pd.read_csv('./sample_sub_v2.csv')\n",
        "print(sub.shape)\n",
        "sub.head()"
      ],
      "execution_count": 8,
      "outputs": [
        {
          "output_type": "stream",
          "text": [
            "(509, 2)\n"
          ],
          "name": "stdout"
        },
        {
          "output_type": "execute_result",
          "data": {
            "text/html": [
              "<div>\n",
              "<style scoped>\n",
              "    .dataframe tbody tr th:only-of-type {\n",
              "        vertical-align: middle;\n",
              "    }\n",
              "\n",
              "    .dataframe tbody tr th {\n",
              "        vertical-align: top;\n",
              "    }\n",
              "\n",
              "    .dataframe thead th {\n",
              "        text-align: right;\n",
              "    }\n",
              "</style>\n",
              "<table border=\"1\" class=\"dataframe\">\n",
              "  <thead>\n",
              "    <tr style=\"text-align: right;\">\n",
              "      <th></th>\n",
              "      <th>image</th>\n",
              "      <th>target</th>\n",
              "    </tr>\n",
              "  </thead>\n",
              "  <tbody>\n",
              "    <tr>\n",
              "      <th>0</th>\n",
              "      <td>aadawlxbmapqrblgxyzarhjasgiobu.png</td>\n",
              "      <td>0</td>\n",
              "    </tr>\n",
              "    <tr>\n",
              "      <th>1</th>\n",
              "      <td>abpxvdfyhaaohzcrngcucmhffwizxs.jpg</td>\n",
              "      <td>0</td>\n",
              "    </tr>\n",
              "    <tr>\n",
              "      <th>2</th>\n",
              "      <td>aclkjfvackiieiznzfcwienplielrj.jpg</td>\n",
              "      <td>0</td>\n",
              "    </tr>\n",
              "    <tr>\n",
              "      <th>3</th>\n",
              "      <td>aelkivmayxgsdjosiibfgmkvfrjvjk.jpg</td>\n",
              "      <td>0</td>\n",
              "    </tr>\n",
              "    <tr>\n",
              "      <th>4</th>\n",
              "      <td>aelzzshpfxerelefnkatpczktuxjln.jpg</td>\n",
              "      <td>0</td>\n",
              "    </tr>\n",
              "  </tbody>\n",
              "</table>\n",
              "</div>"
            ],
            "text/plain": [
              "                                image  target\n",
              "0  aadawlxbmapqrblgxyzarhjasgiobu.png       0\n",
              "1  abpxvdfyhaaohzcrngcucmhffwizxs.jpg       0\n",
              "2  aclkjfvackiieiznzfcwienplielrj.jpg       0\n",
              "3  aelkivmayxgsdjosiibfgmkvfrjvjk.jpg       0\n",
              "4  aelzzshpfxerelefnkatpczktuxjln.jpg       0"
            ]
          },
          "metadata": {
            "tags": []
          },
          "execution_count": 8
        }
      ]
    },
    {
      "cell_type": "code",
      "metadata": {
        "id": "YMhmb9Iupdur",
        "colab_type": "code",
        "colab": {}
      },
      "source": [
        "#Create dataloader \n",
        "dls = ImageDataLoaders.from_df(train, path='.', folder='images', seed=42, item_tfms=Resize(224),batch_tfms = [*aug_transforms(size=224), Normalize.from_stats(*imagenet_stats)],bs=8,num_workers=0) "
      ],
      "execution_count": 0,
      "outputs": []
    },
    {
      "cell_type": "code",
      "metadata": {
        "id": "b3NbTBM9pr3E",
        "colab_type": "code",
        "outputId": "a60345f6-bbeb-4e65-c918-ac4dc6e4dd27",
        "colab": {
          "base_uri": "https://localhost:8080/",
          "height": 72
        }
      },
      "source": [
        "#Fairly balanced dataset\n",
        "train['target'].value_counts()"
      ],
      "execution_count": 10,
      "outputs": [
        {
          "output_type": "execute_result",
          "data": {
            "text/plain": [
              "0    664\n",
              "1    644\n",
              "Name: target, dtype: int64"
            ]
          },
          "metadata": {
            "tags": []
          },
          "execution_count": 10
        }
      ]
    },
    {
      "cell_type": "code",
      "metadata": {
        "id": "aorqiibEAa5i",
        "colab_type": "code",
        "outputId": "3350e709-0371-4460-a6c5-4b834429c899",
        "colab": {
          "base_uri": "https://localhost:8080/",
          "height": 409
        }
      },
      "source": [
        "#Instantiate and start learner tuning\n",
        "learn = cnn_learner(dls,densenet201,metrics=[accuracy])\n",
        "learn.fine_tune(10)"
      ],
      "execution_count": 33,
      "outputs": [
        {
          "output_type": "display_data",
          "data": {
            "text/html": [
              "<table border=\"1\" class=\"dataframe\">\n",
              "  <thead>\n",
              "    <tr style=\"text-align: left;\">\n",
              "      <th>epoch</th>\n",
              "      <th>train_loss</th>\n",
              "      <th>valid_loss</th>\n",
              "      <th>accuracy</th>\n",
              "      <th>time</th>\n",
              "    </tr>\n",
              "  </thead>\n",
              "  <tbody>\n",
              "    <tr>\n",
              "      <td>0</td>\n",
              "      <td>0.796428</td>\n",
              "      <td>0.347297</td>\n",
              "      <td>0.904215</td>\n",
              "      <td>01:07</td>\n",
              "    </tr>\n",
              "  </tbody>\n",
              "</table>"
            ],
            "text/plain": [
              "<IPython.core.display.HTML object>"
            ]
          },
          "metadata": {
            "tags": []
          }
        },
        {
          "output_type": "display_data",
          "data": {
            "text/html": [
              "<table border=\"1\" class=\"dataframe\">\n",
              "  <thead>\n",
              "    <tr style=\"text-align: left;\">\n",
              "      <th>epoch</th>\n",
              "      <th>train_loss</th>\n",
              "      <th>valid_loss</th>\n",
              "      <th>accuracy</th>\n",
              "      <th>time</th>\n",
              "    </tr>\n",
              "  </thead>\n",
              "  <tbody>\n",
              "    <tr>\n",
              "      <td>0</td>\n",
              "      <td>0.403690</td>\n",
              "      <td>0.216865</td>\n",
              "      <td>0.946360</td>\n",
              "      <td>01:31</td>\n",
              "    </tr>\n",
              "    <tr>\n",
              "      <td>1</td>\n",
              "      <td>0.339511</td>\n",
              "      <td>0.121378</td>\n",
              "      <td>0.957854</td>\n",
              "      <td>01:31</td>\n",
              "    </tr>\n",
              "    <tr>\n",
              "      <td>2</td>\n",
              "      <td>0.295669</td>\n",
              "      <td>0.089138</td>\n",
              "      <td>0.969349</td>\n",
              "      <td>01:31</td>\n",
              "    </tr>\n",
              "    <tr>\n",
              "      <td>3</td>\n",
              "      <td>0.188126</td>\n",
              "      <td>0.130703</td>\n",
              "      <td>0.950192</td>\n",
              "      <td>01:31</td>\n",
              "    </tr>\n",
              "    <tr>\n",
              "      <td>4</td>\n",
              "      <td>0.192058</td>\n",
              "      <td>0.096920</td>\n",
              "      <td>0.950192</td>\n",
              "      <td>01:31</td>\n",
              "    </tr>\n",
              "    <tr>\n",
              "      <td>5</td>\n",
              "      <td>0.162544</td>\n",
              "      <td>0.070878</td>\n",
              "      <td>0.973180</td>\n",
              "      <td>01:31</td>\n",
              "    </tr>\n",
              "    <tr>\n",
              "      <td>6</td>\n",
              "      <td>0.114209</td>\n",
              "      <td>0.051254</td>\n",
              "      <td>0.984674</td>\n",
              "      <td>01:31</td>\n",
              "    </tr>\n",
              "    <tr>\n",
              "      <td>7</td>\n",
              "      <td>0.115087</td>\n",
              "      <td>0.053931</td>\n",
              "      <td>0.988506</td>\n",
              "      <td>01:30</td>\n",
              "    </tr>\n",
              "    <tr>\n",
              "      <td>8</td>\n",
              "      <td>0.052816</td>\n",
              "      <td>0.077222</td>\n",
              "      <td>0.973180</td>\n",
              "      <td>01:30</td>\n",
              "    </tr>\n",
              "    <tr>\n",
              "      <td>9</td>\n",
              "      <td>0.083990</td>\n",
              "      <td>0.048801</td>\n",
              "      <td>0.988506</td>\n",
              "      <td>01:30</td>\n",
              "    </tr>\n",
              "  </tbody>\n",
              "</table>"
            ],
            "text/plain": [
              "<IPython.core.display.HTML object>"
            ]
          },
          "metadata": {
            "tags": []
          }
        }
      ]
    },
    {
      "cell_type": "code",
      "metadata": {
        "id": "IpRMfBfrAhqg",
        "colab_type": "code",
        "colab": {}
      },
      "source": [
        "test=sub.copy()\n",
        "test.drop(['target'],axis=1,inplace=True)\n",
        "test_dl=learn.dls.test_dl(test)\n",
        "test_dl.show_batch()"
      ],
      "execution_count": 0,
      "outputs": []
    },
    {
      "cell_type": "code",
      "metadata": {
        "id": "FPP_ztTKAwTL",
        "colab_type": "code",
        "colab": {
          "base_uri": "https://localhost:8080/",
          "height": 57
        },
        "outputId": "0384b879-9641-48e8-d5d2-405498877622"
      },
      "source": [
        "# Using TTA to make robust prediction\n",
        "preds,_=learn.tta(dl=test_dl)"
      ],
      "execution_count": 38,
      "outputs": [
        {
          "output_type": "display_data",
          "data": {
            "text/html": [
              ""
            ],
            "text/plain": [
              "<IPython.core.display.HTML object>"
            ]
          },
          "metadata": {
            "tags": []
          }
        },
        {
          "output_type": "display_data",
          "data": {
            "text/html": [
              "\n",
              "    <div>\n",
              "        <style>\n",
              "            /* Turns off some styling */\n",
              "            progress {\n",
              "                /* gets rid of default border in Firefox and Opera. */\n",
              "                border: none;\n",
              "                /* Needs to be in here for Safari polyfill so background images work as expected. */\n",
              "                background-size: auto;\n",
              "            }\n",
              "            .progress-bar-interrupted, .progress-bar-interrupted::-webkit-progress-bar {\n",
              "                background: #F44336;\n",
              "            }\n",
              "        </style>\n",
              "      <progress value='4' class='' max='4' style='width:300px; height:20px; vertical-align: middle;'></progress>\n",
              "      100.00% [4/4 00:33<00:00]\n",
              "    </div>\n",
              "    \n",
              "\n",
              "\n",
              "    <div>\n",
              "        <style>\n",
              "            /* Turns off some styling */\n",
              "            progress {\n",
              "                /* gets rid of default border in Firefox and Opera. */\n",
              "                border: none;\n",
              "                /* Needs to be in here for Safari polyfill so background images work as expected. */\n",
              "                background-size: auto;\n",
              "            }\n",
              "            .progress-bar-interrupted, .progress-bar-interrupted::-webkit-progress-bar {\n",
              "                background: #F44336;\n",
              "            }\n",
              "        </style>\n",
              "      <progress value='64' class='' max='64' style='width:300px; height:20px; vertical-align: middle;'></progress>\n",
              "      100.00% [64/64 00:07<00:00 0.0840]\n",
              "    </div>\n",
              "    "
            ],
            "text/plain": [
              "<IPython.core.display.HTML object>"
            ]
          },
          "metadata": {
            "tags": []
          }
        }
      ]
    },
    {
      "cell_type": "code",
      "metadata": {
        "id": "gvDV35RRAlFl",
        "colab_type": "code",
        "colab": {}
      },
      "source": [
        "# Check shape of prediction\n",
        "preds.numpy().shape"
      ],
      "execution_count": 0,
      "outputs": []
    },
    {
      "cell_type": "code",
      "metadata": {
        "id": "vXaQIghWAnqp",
        "colab_type": "code",
        "colab": {}
      },
      "source": [
        "dls.vocab"
      ],
      "execution_count": 0,
      "outputs": []
    },
    {
      "cell_type": "code",
      "metadata": {
        "id": "3SMUES7nAqVB",
        "colab_type": "code",
        "colab": {
          "base_uri": "https://localhost:8080/",
          "height": 35
        },
        "outputId": "37858ecd-a0f8-45a4-fcf6-952bd77be68d"
      },
      "source": [
        "sub_file=sub.copy()\n",
        "sub_file['target']=preds.numpy()[:,1]\n",
        "sub_file.shape"
      ],
      "execution_count": 35,
      "outputs": [
        {
          "output_type": "execute_result",
          "data": {
            "text/plain": [
              "(509, 2)"
            ]
          },
          "metadata": {
            "tags": []
          },
          "execution_count": 35
        }
      ]
    },
    {
      "cell_type": "code",
      "metadata": {
        "id": "Fda-54H_zHx0",
        "colab_type": "code",
        "colab": {}
      },
      "source": [
        "#Write to file\n",
        "sub_file.to_csv('./submission_file_tta1.csv',index=False)"
      ],
      "execution_count": 0,
      "outputs": []
    }
  ]
}