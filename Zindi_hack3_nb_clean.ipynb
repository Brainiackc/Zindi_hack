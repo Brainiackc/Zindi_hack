{
  "nbformat": 4,
  "nbformat_minor": 0,
  "metadata": {
    "colab": {
      "name": " Zindi_hack3_nb_clean.ipynb",
      "provenance": [],
      "collapsed_sections": [],
      "authorship_tag": "ABX9TyMPVFkFM2mX3GGBHy64j0aM",
      "include_colab_link": true
    },
    "kernelspec": {
      "name": "python3",
      "display_name": "Python 3"
    },
    "accelerator": "GPU"
  },
  "cells": [
    {
      "cell_type": "markdown",
      "metadata": {
        "id": "view-in-github",
        "colab_type": "text"
      },
      "source": [
        "<a href=\"https://colab.research.google.com/github/anindabitm/Zindi_hack/blob/master/Zindi_hack3_nb_clean.ipynb\" target=\"_parent\"><img src=\"https://colab.research.google.com/assets/colab-badge.svg\" alt=\"Open In Colab\"/></a>"
      ]
    },
    {
      "cell_type": "code",
      "metadata": {
        "id": "GottAJmwpVKz",
        "colab_type": "code",
        "colab": {}
      },
      "source": [
        "from google.colab import drive"
      ],
      "execution_count": 0,
      "outputs": []
    },
    {
      "cell_type": "code",
      "metadata": {
        "id": "uIbZeTOlpsz6",
        "colab_type": "code",
        "outputId": "1f4723fd-ea12-48dd-a47c-e548e8428577",
        "colab": {
          "base_uri": "https://localhost:8080/",
          "height": 128
        }
      },
      "source": [
        "drive.mount('/content/drive')\n",
        "import os\n",
        "os.chdir('/content/drive/My Drive/Zindi_Hack/3/')"
      ],
      "execution_count": 0,
      "outputs": [
        {
          "output_type": "stream",
          "text": [
            "Go to this URL in a browser: https://accounts.google.com/o/oauth2/auth?client_id=947318989803-6bn6qk8qdgf4n4g3pfee6491hc0brc4i.apps.googleusercontent.com&redirect_uri=urn%3aietf%3awg%3aoauth%3a2.0%3aoob&response_type=code&scope=email%20https%3a%2f%2fwww.googleapis.com%2fauth%2fdocs.test%20https%3a%2f%2fwww.googleapis.com%2fauth%2fdrive%20https%3a%2f%2fwww.googleapis.com%2fauth%2fdrive.photos.readonly%20https%3a%2f%2fwww.googleapis.com%2fauth%2fpeopleapi.readonly\n",
            "\n",
            "Enter your authorization code:\n",
            "··········\n",
            "Mounted at /content/drive\n"
          ],
          "name": "stdout"
        }
      ]
    },
    {
      "cell_type": "code",
      "metadata": {
        "id": "HOz-_qwqqwX2",
        "colab_type": "code",
        "colab": {}
      },
      "source": [
        "import os\n",
        "import sys\n",
        "import csv\n",
        "import shutil\n",
        "from pathlib import Path\n",
        "import matplotlib.pyplot as plt\n",
        "import numpy as np\n",
        "import pandas as pd\n",
        "import torch\n",
        "import random\n",
        "%matplotlib inline"
      ],
      "execution_count": 0,
      "outputs": []
    },
    {
      "cell_type": "code",
      "metadata": {
        "id": "gQefo8FEuQa9",
        "colab_type": "code",
        "colab": {}
      },
      "source": [
        "!pip install fastai2"
      ],
      "execution_count": 0,
      "outputs": []
    },
    {
      "cell_type": "code",
      "metadata": {
        "id": "QRHrQfS6uhCQ",
        "colab_type": "code",
        "colab": {}
      },
      "source": [
        "from fastai2.torch_basics import *\n",
        "from fastai2.basics import *\n",
        "from fastai2.data.all import *\n",
        "from fastai2.callback.all import *\n",
        "from fastai2.vision.all import *\n",
        "from fastai2.test_utils import *\n",
        "from fastai2.vision.core import *"
      ],
      "execution_count": 0,
      "outputs": []
    },
    {
      "cell_type": "code",
      "metadata": {
        "id": "m4g38UVCrB2p",
        "colab_type": "code",
        "colab": {}
      },
      "source": [
        "#seed everything\n",
        "seed = 42\n",
        "# python RNG\n",
        "random.seed(seed)\n",
        "# pytorch RNGs\n",
        "torch.manual_seed(seed)\n",
        "torch.backends.cudnn.deterministic = True\n",
        "if torch.cuda.is_available(): torch.cuda.manual_seed_all(seed)\n",
        "# numpy RNG\n",
        "np.random.seed(seed)"
      ],
      "execution_count": 0,
      "outputs": []
    },
    {
      "cell_type": "code",
      "metadata": {
        "id": "NMSKM5Sgp9nx",
        "colab_type": "code",
        "outputId": "328b5dea-013c-4f2e-e0f5-09ee9564caf0",
        "colab": {
          "base_uri": "https://localhost:8080/",
          "height": 34
        }
      },
      "source": [
        "!ls"
      ],
      "execution_count": 0,
      "outputs": [
        {
          "output_type": "stream",
          "text": [
            "images\timages.zip  sample_sub_v2.csv  train_labels.csv\n"
          ],
          "name": "stdout"
        }
      ]
    },
    {
      "cell_type": "code",
      "metadata": {
        "id": "0yWfSUyVqCjM",
        "colab_type": "code",
        "colab": {}
      },
      "source": [
        "!unzip images.zip"
      ],
      "execution_count": 0,
      "outputs": []
    },
    {
      "cell_type": "code",
      "metadata": {
        "id": "iktWBiPgqUu8",
        "colab_type": "code",
        "outputId": "53f745d1-5a60-4192-8ec9-ca183f11f342",
        "colab": {
          "base_uri": "https://localhost:8080/",
          "height": 34
        }
      },
      "source": [
        "import glob\n",
        "fn=glob.glob('./images/*.*')\n",
        "len(fn)"
      ],
      "execution_count": 0,
      "outputs": [
        {
          "output_type": "execute_result",
          "data": {
            "text/plain": [
              "1817"
            ]
          },
          "metadata": {
            "tags": []
          },
          "execution_count": 4
        }
      ]
    },
    {
      "cell_type": "code",
      "metadata": {
        "id": "EDZuPa3mqt3s",
        "colab_type": "code",
        "outputId": "8459e24b-f2f8-4165-f376-5882adbaf9fc",
        "colab": {
          "base_uri": "https://localhost:8080/",
          "height": 35
        }
      },
      "source": [
        "train=pd.read_csv('./train_labels.csv')\n",
        "train.shape"
      ],
      "execution_count": 0,
      "outputs": [
        {
          "output_type": "execute_result",
          "data": {
            "text/plain": [
              "(1308, 2)"
            ]
          },
          "metadata": {
            "tags": []
          },
          "execution_count": 7
        }
      ]
    },
    {
      "cell_type": "code",
      "metadata": {
        "id": "79S2DKbhrKJT",
        "colab_type": "code",
        "outputId": "4559e7bb-94ec-41fa-d661-aa0ef36476c0",
        "colab": {
          "base_uri": "https://localhost:8080/",
          "height": 204
        }
      },
      "source": [
        "train.head()"
      ],
      "execution_count": 0,
      "outputs": [
        {
          "output_type": "execute_result",
          "data": {
            "text/html": [
              "<div>\n",
              "<style scoped>\n",
              "    .dataframe tbody tr th:only-of-type {\n",
              "        vertical-align: middle;\n",
              "    }\n",
              "\n",
              "    .dataframe tbody tr th {\n",
              "        vertical-align: top;\n",
              "    }\n",
              "\n",
              "    .dataframe thead th {\n",
              "        text-align: right;\n",
              "    }\n",
              "</style>\n",
              "<table border=\"1\" class=\"dataframe\">\n",
              "  <thead>\n",
              "    <tr style=\"text-align: right;\">\n",
              "      <th></th>\n",
              "      <th>image</th>\n",
              "      <th>target</th>\n",
              "    </tr>\n",
              "  </thead>\n",
              "  <tbody>\n",
              "    <tr>\n",
              "      <th>0</th>\n",
              "      <td>tfymlmdkpzkqdjhdxyhnoeuqszxphw.jpg</td>\n",
              "      <td>0</td>\n",
              "    </tr>\n",
              "    <tr>\n",
              "      <th>1</th>\n",
              "      <td>rxgismgsvmaayzjarbfjaljhqmpbrt.jpg</td>\n",
              "      <td>1</td>\n",
              "    </tr>\n",
              "    <tr>\n",
              "      <th>2</th>\n",
              "      <td>uuzshfrhkgrkolhwdvliqauzulurnz.jpg</td>\n",
              "      <td>0</td>\n",
              "    </tr>\n",
              "    <tr>\n",
              "      <th>3</th>\n",
              "      <td>mjspxsagzusaznvnyxgamtrlqkqklp.jpg</td>\n",
              "      <td>0</td>\n",
              "    </tr>\n",
              "    <tr>\n",
              "      <th>4</th>\n",
              "      <td>rlbmuajgezfiddjzlyeoupxpqubkpt.jpg</td>\n",
              "      <td>1</td>\n",
              "    </tr>\n",
              "  </tbody>\n",
              "</table>\n",
              "</div>"
            ],
            "text/plain": [
              "                                image  target\n",
              "0  tfymlmdkpzkqdjhdxyhnoeuqszxphw.jpg       0\n",
              "1  rxgismgsvmaayzjarbfjaljhqmpbrt.jpg       1\n",
              "2  uuzshfrhkgrkolhwdvliqauzulurnz.jpg       0\n",
              "3  mjspxsagzusaznvnyxgamtrlqkqklp.jpg       0\n",
              "4  rlbmuajgezfiddjzlyeoupxpqubkpt.jpg       1"
            ]
          },
          "metadata": {
            "tags": []
          },
          "execution_count": 6
        }
      ]
    },
    {
      "cell_type": "code",
      "metadata": {
        "id": "wBS-m4x9rRc2",
        "colab_type": "code",
        "outputId": "bf1d8e71-37c7-48b0-9c0e-42f29c2c4005",
        "colab": {
          "base_uri": "https://localhost:8080/",
          "height": 216
        }
      },
      "source": [
        "sub=pd.read_csv('./sample_sub_v2.csv')\n",
        "print(sub.shape)\n",
        "sub.head()"
      ],
      "execution_count": 0,
      "outputs": [
        {
          "output_type": "stream",
          "text": [
            "(509, 2)\n"
          ],
          "name": "stdout"
        },
        {
          "output_type": "execute_result",
          "data": {
            "text/html": [
              "<div>\n",
              "<style scoped>\n",
              "    .dataframe tbody tr th:only-of-type {\n",
              "        vertical-align: middle;\n",
              "    }\n",
              "\n",
              "    .dataframe tbody tr th {\n",
              "        vertical-align: top;\n",
              "    }\n",
              "\n",
              "    .dataframe thead th {\n",
              "        text-align: right;\n",
              "    }\n",
              "</style>\n",
              "<table border=\"1\" class=\"dataframe\">\n",
              "  <thead>\n",
              "    <tr style=\"text-align: right;\">\n",
              "      <th></th>\n",
              "      <th>image</th>\n",
              "      <th>target</th>\n",
              "    </tr>\n",
              "  </thead>\n",
              "  <tbody>\n",
              "    <tr>\n",
              "      <th>0</th>\n",
              "      <td>aadawlxbmapqrblgxyzarhjasgiobu.png</td>\n",
              "      <td>0</td>\n",
              "    </tr>\n",
              "    <tr>\n",
              "      <th>1</th>\n",
              "      <td>abpxvdfyhaaohzcrngcucmhffwizxs.jpg</td>\n",
              "      <td>0</td>\n",
              "    </tr>\n",
              "    <tr>\n",
              "      <th>2</th>\n",
              "      <td>aclkjfvackiieiznzfcwienplielrj.jpg</td>\n",
              "      <td>0</td>\n",
              "    </tr>\n",
              "    <tr>\n",
              "      <th>3</th>\n",
              "      <td>aelkivmayxgsdjosiibfgmkvfrjvjk.jpg</td>\n",
              "      <td>0</td>\n",
              "    </tr>\n",
              "    <tr>\n",
              "      <th>4</th>\n",
              "      <td>aelzzshpfxerelefnkatpczktuxjln.jpg</td>\n",
              "      <td>0</td>\n",
              "    </tr>\n",
              "  </tbody>\n",
              "</table>\n",
              "</div>"
            ],
            "text/plain": [
              "                                image  target\n",
              "0  aadawlxbmapqrblgxyzarhjasgiobu.png       0\n",
              "1  abpxvdfyhaaohzcrngcucmhffwizxs.jpg       0\n",
              "2  aclkjfvackiieiznzfcwienplielrj.jpg       0\n",
              "3  aelkivmayxgsdjosiibfgmkvfrjvjk.jpg       0\n",
              "4  aelzzshpfxerelefnkatpczktuxjln.jpg       0"
            ]
          },
          "metadata": {
            "tags": []
          },
          "execution_count": 62
        }
      ]
    },
    {
      "cell_type": "code",
      "metadata": {
        "id": "yR5JFXAmrQCm",
        "colab_type": "code",
        "outputId": "26756ac2-08d5-420d-a76d-44f5dc688c5b",
        "colab": {
          "base_uri": "https://localhost:8080/",
          "height": 199
        }
      },
      "source": [
        "from sklearn.model_selection import StratifiedKFold\n",
        "skf = StratifiedKFold(n_splits=5,shuffle=True,random_state=42)\n",
        "X=train['image'].copy()\n",
        "y=train['target'].copy()\n",
        "fold = 0\n",
        "for train_index, test_index in skf.split(X, y):\n",
        "  fold+= 1\n",
        "  print('In fold',fold)\n",
        "  print(\"TRAIN LENGTH:\", len(train_index), \"VALIDATION LENGTH:\", len(test_index))\n",
        "  train[f'fold_{fold}_valid']=False\n",
        "  train.loc[test_index,f'fold_{fold}_valid']=True"
      ],
      "execution_count": 0,
      "outputs": [
        {
          "output_type": "stream",
          "text": [
            "In fold 1\n",
            "TRAIN LENGTH: 1046 VALIDATION LENGTH: 262\n",
            "In fold 2\n",
            "TRAIN LENGTH: 1046 VALIDATION LENGTH: 262\n",
            "In fold 3\n",
            "TRAIN LENGTH: 1046 VALIDATION LENGTH: 262\n",
            "In fold 4\n",
            "TRAIN LENGTH: 1047 VALIDATION LENGTH: 261\n",
            "In fold 5\n",
            "TRAIN LENGTH: 1047 VALIDATION LENGTH: 261\n"
          ],
          "name": "stdout"
        }
      ]
    },
    {
      "cell_type": "code",
      "metadata": {
        "id": "7slfZt8brdZb",
        "colab_type": "code",
        "outputId": "5289efc6-babf-481c-fd74-9adac97d916b",
        "colab": {
          "base_uri": "https://localhost:8080/",
          "height": 198
        }
      },
      "source": [
        "train.head()"
      ],
      "execution_count": 0,
      "outputs": [
        {
          "output_type": "execute_result",
          "data": {
            "text/html": [
              "<div>\n",
              "<style scoped>\n",
              "    .dataframe tbody tr th:only-of-type {\n",
              "        vertical-align: middle;\n",
              "    }\n",
              "\n",
              "    .dataframe tbody tr th {\n",
              "        vertical-align: top;\n",
              "    }\n",
              "\n",
              "    .dataframe thead th {\n",
              "        text-align: right;\n",
              "    }\n",
              "</style>\n",
              "<table border=\"1\" class=\"dataframe\">\n",
              "  <thead>\n",
              "    <tr style=\"text-align: right;\">\n",
              "      <th></th>\n",
              "      <th>image</th>\n",
              "      <th>target</th>\n",
              "      <th>fold_1_valid</th>\n",
              "      <th>fold_2_valid</th>\n",
              "      <th>fold_3_valid</th>\n",
              "      <th>fold_4_valid</th>\n",
              "      <th>fold_5_valid</th>\n",
              "    </tr>\n",
              "  </thead>\n",
              "  <tbody>\n",
              "    <tr>\n",
              "      <th>0</th>\n",
              "      <td>tfymlmdkpzkqdjhdxyhnoeuqszxphw.jpg</td>\n",
              "      <td>0</td>\n",
              "      <td>False</td>\n",
              "      <td>False</td>\n",
              "      <td>True</td>\n",
              "      <td>False</td>\n",
              "      <td>False</td>\n",
              "    </tr>\n",
              "    <tr>\n",
              "      <th>1</th>\n",
              "      <td>rxgismgsvmaayzjarbfjaljhqmpbrt.jpg</td>\n",
              "      <td>1</td>\n",
              "      <td>False</td>\n",
              "      <td>False</td>\n",
              "      <td>False</td>\n",
              "      <td>True</td>\n",
              "      <td>False</td>\n",
              "    </tr>\n",
              "    <tr>\n",
              "      <th>2</th>\n",
              "      <td>uuzshfrhkgrkolhwdvliqauzulurnz.jpg</td>\n",
              "      <td>0</td>\n",
              "      <td>False</td>\n",
              "      <td>False</td>\n",
              "      <td>True</td>\n",
              "      <td>False</td>\n",
              "      <td>False</td>\n",
              "    </tr>\n",
              "    <tr>\n",
              "      <th>3</th>\n",
              "      <td>mjspxsagzusaznvnyxgamtrlqkqklp.jpg</td>\n",
              "      <td>0</td>\n",
              "      <td>False</td>\n",
              "      <td>False</td>\n",
              "      <td>False</td>\n",
              "      <td>True</td>\n",
              "      <td>False</td>\n",
              "    </tr>\n",
              "    <tr>\n",
              "      <th>4</th>\n",
              "      <td>rlbmuajgezfiddjzlyeoupxpqubkpt.jpg</td>\n",
              "      <td>1</td>\n",
              "      <td>False</td>\n",
              "      <td>True</td>\n",
              "      <td>False</td>\n",
              "      <td>False</td>\n",
              "      <td>False</td>\n",
              "    </tr>\n",
              "  </tbody>\n",
              "</table>\n",
              "</div>"
            ],
            "text/plain": [
              "                                image  target  ...  fold_4_valid  fold_5_valid\n",
              "0  tfymlmdkpzkqdjhdxyhnoeuqszxphw.jpg       0  ...         False         False\n",
              "1  rxgismgsvmaayzjarbfjaljhqmpbrt.jpg       1  ...          True         False\n",
              "2  uuzshfrhkgrkolhwdvliqauzulurnz.jpg       0  ...         False         False\n",
              "3  mjspxsagzusaznvnyxgamtrlqkqklp.jpg       0  ...          True         False\n",
              "4  rlbmuajgezfiddjzlyeoupxpqubkpt.jpg       1  ...         False         False\n",
              "\n",
              "[5 rows x 7 columns]"
            ]
          },
          "metadata": {
            "tags": []
          },
          "execution_count": 10
        }
      ]
    },
    {
      "cell_type": "code",
      "metadata": {
        "id": "YMhmb9Iupdur",
        "colab_type": "code",
        "colab": {}
      },
      "source": [
        "def dataloader(fold):\n",
        "  dls = ImageDataLoaders.from_df(train, path='.', folder='images',valid_col=f'fold_{fold}_valid', seed=42, item_tfms=Resize(224),batch_tfms = [*aug_transforms(size=224), Normalize.from_stats(*imagenet_stats)]) \n",
        "  return dls"
      ],
      "execution_count": 0,
      "outputs": []
    },
    {
      "cell_type": "code",
      "metadata": {
        "id": "VZ_M87wCrmGu",
        "colab_type": "code",
        "colab": {}
      },
      "source": [
        "final_preds=np.zeros((sub.shape[0],sub.shape[1]))\n",
        "test=sub.copy()\n",
        "test.drop(['target'],axis=1,inplace=True)\n",
        "#mixup = MixUp(0.5)\n",
        "\n",
        "fold = 0\n",
        "for fold in range(5):\n",
        "  fold+=1\n",
        "  print('In fold:',fold)\n",
        "  dls=dataloader(fold)\n",
        "  dls.show_batch()\n",
        "  learn = cnn_learner(dls,densenet169,metrics=[accuracy])\n",
        "  learn.fine_tune(20)\n",
        "  test_dl=learn.dls.test_dl(test)\n",
        "  preds, _ = learn.tta(dl=test_dl)\n",
        "  print('Prediction completed in fold: {}'.format(str(fold)))\n",
        "  final_preds+=preds.numpy()\n",
        "  \n",
        "final_preds=final_preds/5"
      ],
      "execution_count": 0,
      "outputs": []
    },
    {
      "cell_type": "code",
      "metadata": {
        "id": "b3NbTBM9pr3E",
        "colab_type": "code",
        "outputId": "33527b1d-5fc8-437d-904a-4ae7eb5dbb4f",
        "colab": {
          "base_uri": "https://localhost:8080/",
          "height": 72
        }
      },
      "source": [
        "train['target'].value_counts()"
      ],
      "execution_count": 0,
      "outputs": [
        {
          "output_type": "execute_result",
          "data": {
            "text/plain": [
              "0    664\n",
              "1    644\n",
              "Name: target, dtype: int64"
            ]
          },
          "metadata": {
            "tags": []
          },
          "execution_count": 47
        }
      ]
    },
    {
      "cell_type": "code",
      "metadata": {
        "id": "r0QaikbCyFoT",
        "colab_type": "code",
        "outputId": "e6a5d359-9556-4517-f079-4557c1d04b3d",
        "colab": {
          "base_uri": "https://localhost:8080/",
          "height": 35
        }
      },
      "source": [
        "sub_file=sub.copy()\n",
        "sub_file['target']=final_preds[:,1]\n",
        "sub_file.shape"
      ],
      "execution_count": 0,
      "outputs": [
        {
          "output_type": "execute_result",
          "data": {
            "text/plain": [
              "(509, 2)"
            ]
          },
          "metadata": {
            "tags": []
          },
          "execution_count": 68
        }
      ]
    },
    {
      "cell_type": "code",
      "metadata": {
        "id": "Fda-54H_zHx0",
        "colab_type": "code",
        "colab": {}
      },
      "source": [
        "sub_file.to_csv('./submission_file_tta_cv_dense169.csv',index=False)"
      ],
      "execution_count": 0,
      "outputs": []
    }
  ]
}