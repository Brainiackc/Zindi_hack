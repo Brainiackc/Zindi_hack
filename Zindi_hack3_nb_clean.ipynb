{
  "nbformat": 4,
  "nbformat_minor": 0,
  "metadata": {
    "colab": {
      "name": " Zindi_hack3_nb_clean.ipynb",
      "provenance": [],
      "collapsed_sections": [],
      "authorship_tag": "ABX9TyMdi/fjHRYxdu20dekfr1f6",
      "include_colab_link": true
    },
    "kernelspec": {
      "name": "python3",
      "display_name": "Python 3"
    },
    "accelerator": "GPU"
  },
  "cells": [
    {
      "cell_type": "markdown",
      "metadata": {
        "id": "view-in-github",
        "colab_type": "text"
      },
      "source": [
        "<a href=\"https://colab.research.google.com/github/anindabitm/Zindi_hack/blob/master/Zindi_hack3_nb_clean.ipynb\" target=\"_parent\"><img src=\"https://colab.research.google.com/assets/colab-badge.svg\" alt=\"Open In Colab\"/></a>"
      ]
    },
    {
      "cell_type": "code",
      "metadata": {
        "id": "GottAJmwpVKz",
        "colab_type": "code",
        "colab": {}
      },
      "source": [
        "from google.colab import drive"
      ],
      "execution_count": 0,
      "outputs": []
    },
    {
      "cell_type": "code",
      "metadata": {
        "id": "uIbZeTOlpsz6",
        "colab_type": "code",
        "outputId": "1f4723fd-ea12-48dd-a47c-e548e8428577",
        "colab": {
          "base_uri": "https://localhost:8080/",
          "height": 128
        }
      },
      "source": [
        "drive.mount('/content/drive')\n",
        "import os\n",
        "os.chdir('/content/drive/My Drive/Zindi_Hack/3/')"
      ],
      "execution_count": 0,
      "outputs": [
        {
          "output_type": "stream",
          "text": [
            "Go to this URL in a browser: https://accounts.google.com/o/oauth2/auth?client_id=947318989803-6bn6qk8qdgf4n4g3pfee6491hc0brc4i.apps.googleusercontent.com&redirect_uri=urn%3aietf%3awg%3aoauth%3a2.0%3aoob&response_type=code&scope=email%20https%3a%2f%2fwww.googleapis.com%2fauth%2fdocs.test%20https%3a%2f%2fwww.googleapis.com%2fauth%2fdrive%20https%3a%2f%2fwww.googleapis.com%2fauth%2fdrive.photos.readonly%20https%3a%2f%2fwww.googleapis.com%2fauth%2fpeopleapi.readonly\n",
            "\n",
            "Enter your authorization code:\n",
            "··········\n",
            "Mounted at /content/drive\n"
          ],
          "name": "stdout"
        }
      ]
    },
    {
      "cell_type": "code",
      "metadata": {
        "id": "HOz-_qwqqwX2",
        "colab_type": "code",
        "colab": {}
      },
      "source": [
        "import os\n",
        "import sys\n",
        "import csv\n",
        "import shutil\n",
        "from pathlib import Path\n",
        "import matplotlib.pyplot as plt\n",
        "import numpy as np\n",
        "import pandas as pd\n",
        "import torch\n",
        "import random\n",
        "%matplotlib inline"
      ],
      "execution_count": 0,
      "outputs": []
    },
    {
      "cell_type": "code",
      "metadata": {
        "id": "gQefo8FEuQa9",
        "colab_type": "code",
        "colab": {}
      },
      "source": [
        "!pip install fastai2"
      ],
      "execution_count": 0,
      "outputs": []
    },
    {
      "cell_type": "code",
      "metadata": {
        "id": "QRHrQfS6uhCQ",
        "colab_type": "code",
        "colab": {}
      },
      "source": [
        "from fastai2.torch_basics import *\n",
        "from fastai2.basics import *\n",
        "from fastai2.data.all import *\n",
        "from fastai2.callback.all import *\n",
        "from fastai2.vision.all import *\n",
        "from fastai2.test_utils import *\n",
        "from fastai2.vision.core import *"
      ],
      "execution_count": 0,
      "outputs": []
    },
    {
      "cell_type": "code",
      "metadata": {
        "id": "m4g38UVCrB2p",
        "colab_type": "code",
        "colab": {}
      },
      "source": [
        "#seed everything\n",
        "seed = 42\n",
        "# python RNG\n",
        "random.seed(seed)\n",
        "# pytorch RNGs\n",
        "torch.manual_seed(seed)\n",
        "torch.backends.cudnn.deterministic = True\n",
        "if torch.cuda.is_available(): torch.cuda.manual_seed_all(seed)\n",
        "# numpy RNG\n",
        "np.random.seed(seed)"
      ],
      "execution_count": 0,
      "outputs": []
    },
    {
      "cell_type": "code",
      "metadata": {
        "id": "NMSKM5Sgp9nx",
        "colab_type": "code",
        "outputId": "328b5dea-013c-4f2e-e0f5-09ee9564caf0",
        "colab": {
          "base_uri": "https://localhost:8080/",
          "height": 34
        }
      },
      "source": [
        "!ls"
      ],
      "execution_count": 0,
      "outputs": [
        {
          "output_type": "stream",
          "text": [
            "images\timages.zip  sample_sub_v2.csv  train_labels.csv\n"
          ],
          "name": "stdout"
        }
      ]
    },
    {
      "cell_type": "code",
      "metadata": {
        "id": "0yWfSUyVqCjM",
        "colab_type": "code",
        "colab": {}
      },
      "source": [
        "!unzip images.zip"
      ],
      "execution_count": 0,
      "outputs": []
    },
    {
      "cell_type": "code",
      "metadata": {
        "id": "iktWBiPgqUu8",
        "colab_type": "code",
        "outputId": "53f745d1-5a60-4192-8ec9-ca183f11f342",
        "colab": {
          "base_uri": "https://localhost:8080/",
          "height": 34
        }
      },
      "source": [
        "import glob\n",
        "fn=glob.glob('./images/*.*')\n",
        "len(fn)"
      ],
      "execution_count": 0,
      "outputs": [
        {
          "output_type": "execute_result",
          "data": {
            "text/plain": [
              "1817"
            ]
          },
          "metadata": {
            "tags": []
          },
          "execution_count": 4
        }
      ]
    },
    {
      "cell_type": "code",
      "metadata": {
        "id": "EDZuPa3mqt3s",
        "colab_type": "code",
        "outputId": "8459e24b-f2f8-4165-f376-5882adbaf9fc",
        "colab": {
          "base_uri": "https://localhost:8080/",
          "height": 35
        }
      },
      "source": [
        "train=pd.read_csv('./train_labels.csv')\n",
        "train.shape"
      ],
      "execution_count": 0,
      "outputs": [
        {
          "output_type": "execute_result",
          "data": {
            "text/plain": [
              "(1308, 2)"
            ]
          },
          "metadata": {
            "tags": []
          },
          "execution_count": 7
        }
      ]
    },
    {
      "cell_type": "code",
      "metadata": {
        "id": "79S2DKbhrKJT",
        "colab_type": "code",
        "outputId": "4559e7bb-94ec-41fa-d661-aa0ef36476c0",
        "colab": {
          "base_uri": "https://localhost:8080/",
          "height": 204
        }
      },
      "source": [
        "train.head()"
      ],
      "execution_count": 0,
      "outputs": [
        {
          "output_type": "execute_result",
          "data": {
            "text/html": [
              "<div>\n",
              "<style scoped>\n",
              "    .dataframe tbody tr th:only-of-type {\n",
              "        vertical-align: middle;\n",
              "    }\n",
              "\n",
              "    .dataframe tbody tr th {\n",
              "        vertical-align: top;\n",
              "    }\n",
              "\n",
              "    .dataframe thead th {\n",
              "        text-align: right;\n",
              "    }\n",
              "</style>\n",
              "<table border=\"1\" class=\"dataframe\">\n",
              "  <thead>\n",
              "    <tr style=\"text-align: right;\">\n",
              "      <th></th>\n",
              "      <th>image</th>\n",
              "      <th>target</th>\n",
              "    </tr>\n",
              "  </thead>\n",
              "  <tbody>\n",
              "    <tr>\n",
              "      <th>0</th>\n",
              "      <td>tfymlmdkpzkqdjhdxyhnoeuqszxphw.jpg</td>\n",
              "      <td>0</td>\n",
              "    </tr>\n",
              "    <tr>\n",
              "      <th>1</th>\n",
              "      <td>rxgismgsvmaayzjarbfjaljhqmpbrt.jpg</td>\n",
              "      <td>1</td>\n",
              "    </tr>\n",
              "    <tr>\n",
              "      <th>2</th>\n",
              "      <td>uuzshfrhkgrkolhwdvliqauzulurnz.jpg</td>\n",
              "      <td>0</td>\n",
              "    </tr>\n",
              "    <tr>\n",
              "      <th>3</th>\n",
              "      <td>mjspxsagzusaznvnyxgamtrlqkqklp.jpg</td>\n",
              "      <td>0</td>\n",
              "    </tr>\n",
              "    <tr>\n",
              "      <th>4</th>\n",
              "      <td>rlbmuajgezfiddjzlyeoupxpqubkpt.jpg</td>\n",
              "      <td>1</td>\n",
              "    </tr>\n",
              "  </tbody>\n",
              "</table>\n",
              "</div>"
            ],
            "text/plain": [
              "                                image  target\n",
              "0  tfymlmdkpzkqdjhdxyhnoeuqszxphw.jpg       0\n",
              "1  rxgismgsvmaayzjarbfjaljhqmpbrt.jpg       1\n",
              "2  uuzshfrhkgrkolhwdvliqauzulurnz.jpg       0\n",
              "3  mjspxsagzusaznvnyxgamtrlqkqklp.jpg       0\n",
              "4  rlbmuajgezfiddjzlyeoupxpqubkpt.jpg       1"
            ]
          },
          "metadata": {
            "tags": []
          },
          "execution_count": 6
        }
      ]
    },
    {
      "cell_type": "code",
      "metadata": {
        "id": "wBS-m4x9rRc2",
        "colab_type": "code",
        "outputId": "bf1d8e71-37c7-48b0-9c0e-42f29c2c4005",
        "colab": {
          "base_uri": "https://localhost:8080/",
          "height": 216
        }
      },
      "source": [
        "sub=pd.read_csv('./sample_sub_v2.csv')\n",
        "print(sub.shape)\n",
        "sub.head()"
      ],
      "execution_count": 0,
      "outputs": [
        {
          "output_type": "stream",
          "text": [
            "(509, 2)\n"
          ],
          "name": "stdout"
        },
        {
          "output_type": "execute_result",
          "data": {
            "text/html": [
              "<div>\n",
              "<style scoped>\n",
              "    .dataframe tbody tr th:only-of-type {\n",
              "        vertical-align: middle;\n",
              "    }\n",
              "\n",
              "    .dataframe tbody tr th {\n",
              "        vertical-align: top;\n",
              "    }\n",
              "\n",
              "    .dataframe thead th {\n",
              "        text-align: right;\n",
              "    }\n",
              "</style>\n",
              "<table border=\"1\" class=\"dataframe\">\n",
              "  <thead>\n",
              "    <tr style=\"text-align: right;\">\n",
              "      <th></th>\n",
              "      <th>image</th>\n",
              "      <th>target</th>\n",
              "    </tr>\n",
              "  </thead>\n",
              "  <tbody>\n",
              "    <tr>\n",
              "      <th>0</th>\n",
              "      <td>aadawlxbmapqrblgxyzarhjasgiobu.png</td>\n",
              "      <td>0</td>\n",
              "    </tr>\n",
              "    <tr>\n",
              "      <th>1</th>\n",
              "      <td>abpxvdfyhaaohzcrngcucmhffwizxs.jpg</td>\n",
              "      <td>0</td>\n",
              "    </tr>\n",
              "    <tr>\n",
              "      <th>2</th>\n",
              "      <td>aclkjfvackiieiznzfcwienplielrj.jpg</td>\n",
              "      <td>0</td>\n",
              "    </tr>\n",
              "    <tr>\n",
              "      <th>3</th>\n",
              "      <td>aelkivmayxgsdjosiibfgmkvfrjvjk.jpg</td>\n",
              "      <td>0</td>\n",
              "    </tr>\n",
              "    <tr>\n",
              "      <th>4</th>\n",
              "      <td>aelzzshpfxerelefnkatpczktuxjln.jpg</td>\n",
              "      <td>0</td>\n",
              "    </tr>\n",
              "  </tbody>\n",
              "</table>\n",
              "</div>"
            ],
            "text/plain": [
              "                                image  target\n",
              "0  aadawlxbmapqrblgxyzarhjasgiobu.png       0\n",
              "1  abpxvdfyhaaohzcrngcucmhffwizxs.jpg       0\n",
              "2  aclkjfvackiieiznzfcwienplielrj.jpg       0\n",
              "3  aelkivmayxgsdjosiibfgmkvfrjvjk.jpg       0\n",
              "4  aelzzshpfxerelefnkatpczktuxjln.jpg       0"
            ]
          },
          "metadata": {
            "tags": []
          },
          "execution_count": 62
        }
      ]
    },
    {
      "cell_type": "code",
      "metadata": {
        "id": "YMhmb9Iupdur",
        "colab_type": "code",
        "colab": {}
      },
      "source": [
        "dls = ImageDataLoaders.from_df(train, path='.', folder='images', seed=42, item_tfms=Resize(224),batch_tfms = [*aug_transforms(size=224), Normalize.from_stats(*imagenet_stats)]) "
      ],
      "execution_count": 0,
      "outputs": []
    },
    {
      "cell_type": "code",
      "metadata": {
        "id": "b3NbTBM9pr3E",
        "colab_type": "code",
        "outputId": "33527b1d-5fc8-437d-904a-4ae7eb5dbb4f",
        "colab": {
          "base_uri": "https://localhost:8080/",
          "height": 72
        }
      },
      "source": [
        "train['target'].value_counts()"
      ],
      "execution_count": 0,
      "outputs": [
        {
          "output_type": "execute_result",
          "data": {
            "text/plain": [
              "0    664\n",
              "1    644\n",
              "Name: target, dtype: int64"
            ]
          },
          "metadata": {
            "tags": []
          },
          "execution_count": 47
        }
      ]
    },
    {
      "cell_type": "code",
      "metadata": {
        "id": "aorqiibEAa5i",
        "colab_type": "code",
        "colab": {}
      },
      "source": [
        "learn = cnn_learner(dls,densenet201,metrics=[accuracy])\n",
        "learn.fine_tune(10)"
      ],
      "execution_count": 0,
      "outputs": []
    },
    {
      "cell_type": "code",
      "metadata": {
        "id": "IpRMfBfrAhqg",
        "colab_type": "code",
        "colab": {}
      },
      "source": [
        "test=sub.copy()\n",
        "test.drop(['target'],axis=1,inplace=True)\n",
        "test_dl=learn.dls.test_dl(test)\n",
        "test_dl.show_batch()"
      ],
      "execution_count": 0,
      "outputs": []
    },
    {
      "cell_type": "code",
      "metadata": {
        "id": "FPP_ztTKAwTL",
        "colab_type": "code",
        "colab": {}
      },
      "source": [
        "preds,_=learn.tta(dl=test_dl)"
      ],
      "execution_count": 0,
      "outputs": []
    },
    {
      "cell_type": "code",
      "metadata": {
        "id": "gvDV35RRAlFl",
        "colab_type": "code",
        "colab": {}
      },
      "source": [
        "preds.numpy().shape"
      ],
      "execution_count": 0,
      "outputs": []
    },
    {
      "cell_type": "code",
      "metadata": {
        "id": "vXaQIghWAnqp",
        "colab_type": "code",
        "colab": {}
      },
      "source": [
        "dls.vocab"
      ],
      "execution_count": 0,
      "outputs": []
    },
    {
      "cell_type": "code",
      "metadata": {
        "id": "3SMUES7nAqVB",
        "colab_type": "code",
        "colab": {}
      },
      "source": [
        "sub_file=sub.copy()\n",
        "sub_file['target']=preds[:,1]\n",
        "sub_file.shape"
      ],
      "execution_count": 0,
      "outputs": []
    },
    {
      "cell_type": "code",
      "metadata": {
        "id": "Fda-54H_zHx0",
        "colab_type": "code",
        "colab": {}
      },
      "source": [
        "sub_file.to_csv('./submission_file_tta1.csv',index=False)"
      ],
      "execution_count": 0,
      "outputs": []
    }
  ]
}